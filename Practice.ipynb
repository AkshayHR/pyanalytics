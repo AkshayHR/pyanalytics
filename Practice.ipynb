{
 "cells": [
  {
   "cell_type": "markdown",
   "id": "c5a8aa8b-4a12-4d9b-a8fb-60fb9a7a9427",
   "metadata": {
    "tags": []
   },
   "source": [
    "# Data Structures"
   ]
  },
  {
   "cell_type": "markdown",
   "id": "8ba74010-27c4-43e0-8e43-cdf311ef30dc",
   "metadata": {},
   "source": [
    "## List - https://towardsdatascience.com/a-complete-guide-to-python-lists-6b592c8d5707"
   ]
  },
  {
   "cell_type": "markdown",
   "id": "1acf82a5-d1ad-40e5-ad92-fc5cc95512d9",
   "metadata": {},
   "source": [
    "  #### Indexing List - Items in a list can be accessed by index using the indexing operator. Python indexing starts from zero. You can use a negative integer as an index to start from the end."
   ]
  },
  {
   "cell_type": "code",
   "execution_count": 2,
   "id": "ad767c7c-b831-4e9c-8543-04b6d8eda18c",
   "metadata": {
    "tags": []
   },
   "outputs": [],
   "source": [
    "Indexing_list = [1,2,3,4,5,6,7,8,9]"
   ]
  },
  {
   "cell_type": "code",
   "execution_count": 5,
   "id": "270fc191-8ffb-4ad0-933a-261647906dd4",
   "metadata": {
    "tags": []
   },
   "outputs": [
    {
     "name": "stdout",
     "output_type": "stream",
     "text": [
      "1\n"
     ]
    }
   ],
   "source": [
    "print(Indexing_list[0])"
   ]
  },
  {
   "cell_type": "code",
   "execution_count": 9,
   "id": "c49ea78f-94db-433b-ba99-69aca9efe344",
   "metadata": {
    "tags": []
   },
   "outputs": [
    {
     "name": "stdout",
     "output_type": "stream",
     "text": [
      "9\n"
     ]
    }
   ],
   "source": [
    "print(Indexing_list[8])"
   ]
  },
  {
   "cell_type": "code",
   "execution_count": 10,
   "id": "ca59f93b-00d7-46df-8b84-4b3c38d56641",
   "metadata": {
    "tags": []
   },
   "outputs": [
    {
     "name": "stdout",
     "output_type": "stream",
     "text": [
      "8\n"
     ]
    }
   ],
   "source": [
    "print(Indexing_list[7])"
   ]
  },
  {
   "cell_type": "code",
   "execution_count": 11,
   "id": "5ce068ef-8120-4951-9bf0-47fb334df77b",
   "metadata": {
    "tags": []
   },
   "outputs": [
    {
     "name": "stdout",
     "output_type": "stream",
     "text": [
      "6\n"
     ]
    }
   ],
   "source": [
    "print(Indexing_list[5])"
   ]
  },
  {
   "cell_type": "code",
   "execution_count": 12,
   "id": "34562bd7-b54e-47ad-b257-e5fc4328b390",
   "metadata": {
    "tags": []
   },
   "outputs": [
    {
     "name": "stdout",
     "output_type": "stream",
     "text": [
      "9\n"
     ]
    }
   ],
   "source": [
    "print(Indexing_list[-1])"
   ]
  },
  {
   "cell_type": "code",
   "execution_count": 13,
   "id": "c24fd221-6373-46d1-9a90-6c3536a2979f",
   "metadata": {
    "tags": []
   },
   "outputs": [
    {
     "name": "stdout",
     "output_type": "stream",
     "text": [
      "1\n"
     ]
    }
   ],
   "source": [
    "print(Indexing_list[-9])"
   ]
  },
  {
   "cell_type": "code",
   "execution_count": 26,
   "id": "337ded44-9b40-43df-8972-01cca8f63eef",
   "metadata": {
    "tags": []
   },
   "outputs": [
    {
     "name": "stdout",
     "output_type": "stream",
     "text": [
      "3\n"
     ]
    }
   ],
   "source": [
    "print(Indexing_list[-7])"
   ]
  },
  {
   "cell_type": "code",
   "execution_count": 27,
   "id": "63f1b181-b63a-4aed-b73a-b4e8efc3df24",
   "metadata": {
    "tags": []
   },
   "outputs": [
    {
     "name": "stdout",
     "output_type": "stream",
     "text": [
      "4\n"
     ]
    }
   ],
   "source": [
    "print(Indexing_list[-6])"
   ]
  },
  {
   "cell_type": "markdown",
   "id": "22d882f7-e789-4fd4-b28c-02e9459167c6",
   "metadata": {
    "tags": []
   },
   "source": [
    "## Slicing\n",
    "\n",
    "- slicing with [start:end] takes all elements between 'start' to 'end' does not include 'end' element [15-20]\n",
    "- slicing with [start:] includes all elements after 'start' including the 'start'th  element [21-25]\n",
    "- slicing with [:ends] includes all elements before 'end' and does not include the 'end'th element [28-34]\n",
    "- slicing with negative integers to start indexing from end"
   ]
  },
  {
   "cell_type": "code",
   "execution_count": 15,
   "id": "aef7798a-3340-44b0-b09a-2f2b2d56530a",
   "metadata": {
    "tags": []
   },
   "outputs": [],
   "source": [
    "Slicing_list = [1,2,3,4,5,6,7,8]"
   ]
  },
  {
   "cell_type": "code",
   "execution_count": 32,
   "id": "f2e5625e-6991-43a4-bda6-c43695cec7a5",
   "metadata": {
    "tags": []
   },
   "outputs": [
    {
     "name": "stdout",
     "output_type": "stream",
     "text": [
      "[2, 3]\n"
     ]
    }
   ],
   "source": [
    "print(Slicing_list[1:3])"
   ]
  },
  {
   "cell_type": "code",
   "execution_count": 18,
   "id": "8438c683-c426-40be-a691-a330615fad41",
   "metadata": {
    "tags": []
   },
   "outputs": [
    {
     "name": "stdout",
     "output_type": "stream",
     "text": [
      "[3, 4, 5, 6, 7, 8]\n"
     ]
    }
   ],
   "source": [
    "print(Slicing_list[2:])"
   ]
  },
  {
   "cell_type": "code",
   "execution_count": 19,
   "id": "0fcf4aa0-7688-4ab1-9321-278317819ae6",
   "metadata": {
    "tags": []
   },
   "outputs": [
    {
     "name": "stdout",
     "output_type": "stream",
     "text": [
      "[]\n"
     ]
    }
   ],
   "source": [
    "print(Slicing_list[-1:6])"
   ]
  },
  {
   "cell_type": "code",
   "execution_count": 20,
   "id": "99100bab-87b3-4c8d-b329-c673c0c84551",
   "metadata": {
    "tags": []
   },
   "outputs": [
    {
     "name": "stdout",
     "output_type": "stream",
     "text": [
      "[4, 5, 6, 7]\n"
     ]
    }
   ],
   "source": [
    "print(Slicing_list[3:7])"
   ]
  },
  {
   "cell_type": "code",
   "execution_count": 21,
   "id": "36f76cff-cf23-4fa6-95d0-681378d215dd",
   "metadata": {
    "tags": []
   },
   "outputs": [
    {
     "name": "stdout",
     "output_type": "stream",
     "text": [
      "[1, 2, 3, 4, 5, 6, 7, 8]\n"
     ]
    }
   ],
   "source": [
    "print(Slicing_list[0:])"
   ]
  },
  {
   "cell_type": "code",
   "execution_count": 22,
   "id": "072f3682-5b75-4115-8a7c-0913a0ed34a2",
   "metadata": {
    "tags": []
   },
   "outputs": [
    {
     "name": "stdout",
     "output_type": "stream",
     "text": [
      "[2, 3, 4, 5, 6, 7, 8]\n"
     ]
    }
   ],
   "source": [
    "print(Slicing_list[1:])"
   ]
  },
  {
   "cell_type": "code",
   "execution_count": 23,
   "id": "943e1beb-e0e4-4a21-be4e-79f197c57808",
   "metadata": {
    "tags": []
   },
   "outputs": [
    {
     "name": "stdout",
     "output_type": "stream",
     "text": [
      "[5, 6, 7, 8]\n"
     ]
    }
   ],
   "source": [
    "print(Slicing_list[4:])"
   ]
  },
  {
   "cell_type": "code",
   "execution_count": 24,
   "id": "16cd2f5b-ded0-44c0-9621-0a7ff3a4b874",
   "metadata": {
    "tags": []
   },
   "outputs": [
    {
     "name": "stdout",
     "output_type": "stream",
     "text": [
      "[8]\n"
     ]
    }
   ],
   "source": [
    "print(Slicing_list[-1:])"
   ]
  },
  {
   "cell_type": "code",
   "execution_count": 25,
   "id": "c7d3bf8b-77f7-40f7-9c9f-073d2b71387d",
   "metadata": {
    "tags": []
   },
   "outputs": [
    {
     "name": "stdout",
     "output_type": "stream",
     "text": [
      "[1, 2, 3, 4, 5, 6, 7, 8]\n"
     ]
    }
   ],
   "source": [
    "print(Slicing_list[-8:])"
   ]
  },
  {
   "cell_type": "code",
   "execution_count": 28,
   "id": "592c8dc1-245e-4483-a697-e3bc6d5c0f05",
   "metadata": {
    "tags": []
   },
   "outputs": [
    {
     "name": "stdout",
     "output_type": "stream",
     "text": [
      "[1, 2, 3, 4, 5]\n"
     ]
    }
   ],
   "source": [
    "print(Slicing_list[:5])"
   ]
  },
  {
   "cell_type": "code",
   "execution_count": 29,
   "id": "c562f1e4-092b-4d06-9c91-9fb1e5dac0ab",
   "metadata": {
    "tags": []
   },
   "outputs": [
    {
     "name": "stdout",
     "output_type": "stream",
     "text": [
      "[1, 2, 3, 4, 5, 6, 7, 8]\n"
     ]
    }
   ],
   "source": [
    "print(Slicing_list[:8])"
   ]
  },
  {
   "cell_type": "code",
   "execution_count": 30,
   "id": "7bb380d1-22ac-4795-ab6b-c3f986a18b66",
   "metadata": {
    "tags": []
   },
   "outputs": [
    {
     "name": "stdout",
     "output_type": "stream",
     "text": [
      "[1, 2, 3, 4, 5, 6, 7]\n"
     ]
    }
   ],
   "source": [
    "print(Slicing_list[:7])"
   ]
  },
  {
   "cell_type": "code",
   "execution_count": 33,
   "id": "ba97c323-045e-464f-a81e-55d3f9724337",
   "metadata": {
    "tags": []
   },
   "outputs": [
    {
     "name": "stdout",
     "output_type": "stream",
     "text": [
      "[1, 2, 3, 4, 5, 6]\n"
     ]
    }
   ],
   "source": [
    "print(Slicing_list[:6])"
   ]
  },
  {
   "cell_type": "code",
   "execution_count": 34,
   "id": "8928c674-410c-4289-8cda-9a707aec28f4",
   "metadata": {
    "tags": []
   },
   "outputs": [
    {
     "name": "stdout",
     "output_type": "stream",
     "text": [
      "[1, 2]\n"
     ]
    }
   ],
   "source": [
    "print(Slicing_list[:-6])"
   ]
  },
  {
   "cell_type": "code",
   "execution_count": 35,
   "id": "9824d34a-e66c-404a-a492-a70957a5f8f1",
   "metadata": {
    "tags": []
   },
   "outputs": [
    {
     "name": "stdout",
     "output_type": "stream",
     "text": [
      "[3, 4, 5, 6, 7, 8]\n"
     ]
    }
   ],
   "source": [
    "print(Slicing_list[-6:])"
   ]
  },
  {
   "cell_type": "code",
   "execution_count": 36,
   "id": "98846ba7-6cd2-4e53-af07-c9a2cc2f78b6",
   "metadata": {
    "tags": []
   },
   "outputs": [
    {
     "name": "stdout",
     "output_type": "stream",
     "text": [
      "[6, 7, 8]\n"
     ]
    }
   ],
   "source": [
    "print(Slicing_list[-3:])"
   ]
  },
  {
   "cell_type": "code",
   "execution_count": null,
   "id": "361a034e-fa52-4e43-ab52-ef72db1fe845",
   "metadata": {},
   "outputs": [],
   "source": []
  }
 ],
 "metadata": {
  "kernelspec": {
   "display_name": "Python 3 (ipykernel)",
   "language": "python",
   "name": "python3"
  },
  "language_info": {
   "codemirror_mode": {
    "name": "ipython",
    "version": 3
   },
   "file_extension": ".py",
   "mimetype": "text/x-python",
   "name": "python",
   "nbconvert_exporter": "python",
   "pygments_lexer": "ipython3",
   "version": "3.11.5"
  }
 },
 "nbformat": 4,
 "nbformat_minor": 5
}
