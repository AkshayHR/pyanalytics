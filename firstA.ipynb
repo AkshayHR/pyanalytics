{
 "cells": [
  {
   "cell_type": "code",
   "execution_count": 1,
   "id": "c398ccb7",
   "metadata": {},
   "outputs": [],
   "source": [
    "# First file"
   ]
  },
  {
   "cell_type": "code",
   "execution_count": 2,
   "id": "5b7164cb",
   "metadata": {},
   "outputs": [],
   "source": [
    "x = [ 1,2,3,4,5,4545]"
   ]
  },
  {
   "cell_type": "code",
   "execution_count": 3,
   "id": "fbc5f0f7",
   "metadata": {},
   "outputs": [
    {
     "data": {
      "text/plain": [
       "[1, 2, 3, 4, 5, 4545]"
      ]
     },
     "execution_count": 3,
     "metadata": {},
     "output_type": "execute_result"
    }
   ],
   "source": [
    "x"
   ]
  },
  {
   "cell_type": "code",
   "execution_count": 4,
   "id": "70b28da2",
   "metadata": {},
   "outputs": [
    {
     "name": "stdout",
     "output_type": "stream",
     "text": [
      "[1, 2, 3, 4, 5, 4545]\n"
     ]
    }
   ],
   "source": [
    "print(x)"
   ]
  },
  {
   "cell_type": "code",
   "execution_count": null,
   "id": "6f34a0d1",
   "metadata": {},
   "outputs": [],
   "source": []
  }
 ],
 "metadata": {
  "kernelspec": {
   "display_name": "Python 3 (ipykernel)",
   "language": "python",
   "name": "python3"
  },
  "language_info": {
   "codemirror_mode": {
    "name": "ipython",
    "version": 3
   },
   "file_extension": ".py",
   "mimetype": "text/x-python",
   "name": "python",
   "nbconvert_exporter": "python",
   "pygments_lexer": "ipython3",
   "version": "3.11.5"
  }
 },
 "nbformat": 4,
 "nbformat_minor": 5
}
