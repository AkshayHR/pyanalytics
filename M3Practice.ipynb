{
 "cells": [
  {
   "cell_type": "code",
   "execution_count": 2,
   "id": "b6080811-41e1-4530-ae8c-54f05afab237",
   "metadata": {
    "tags": []
   },
   "outputs": [],
   "source": [
    "import matplotlib\n",
    "import numpy as np\n",
    "import matplotlib.pyplot as plt "
   ]
  },
  {
   "cell_type": "code",
   "execution_count": 3,
   "id": "19685f75-9d78-4359-9b08-4282b3793eca",
   "metadata": {
    "tags": []
   },
   "outputs": [],
   "source": [
    "m = np.random.randint(7,10,20)"
   ]
  },
  {
   "cell_type": "code",
   "execution_count": 4,
   "id": "02e2a23a-3838-49ba-b365-031a03a74e94",
   "metadata": {
    "tags": []
   },
   "outputs": [
    {
     "name": "stdout",
     "output_type": "stream",
     "text": [
      "[8 7 9 8 7 7 9 7 7 7 8 7 9 9 8 8 7 9 9 7]\n"
     ]
    }
   ],
   "source": [
    "print(m)"
   ]
  },
  {
   "cell_type": "code",
   "execution_count": 5,
   "id": "46682d83-bda6-412d-a252-4a0e6b38448b",
   "metadata": {
    "tags": []
   },
   "outputs": [
    {
     "data": {
      "text/plain": [
       "7.85"
      ]
     },
     "execution_count": 5,
     "metadata": {},
     "output_type": "execute_result"
    }
   ],
   "source": [
    "np.mean(m)"
   ]
  },
  {
   "cell_type": "code",
   "execution_count": 6,
   "id": "c7630c67-30d2-4230-bfff-427185916bd7",
   "metadata": {
    "tags": []
   },
   "outputs": [
    {
     "data": {
      "text/plain": [
       "8.0"
      ]
     },
     "execution_count": 6,
     "metadata": {},
     "output_type": "execute_result"
    }
   ],
   "source": [
    "np.median(m)"
   ]
  },
  {
   "cell_type": "code",
   "execution_count": 7,
   "id": "64952e99-3ef5-4722-a500-248fb8976994",
   "metadata": {
    "tags": []
   },
   "outputs": [],
   "source": [
    "# Mode is not a part of numpy library need to import from statistics library."
   ]
  },
  {
   "cell_type": "code",
   "execution_count": 8,
   "id": "ea8a9d8a-57c5-4ded-9e4e-68872795b40c",
   "metadata": {
    "tags": []
   },
   "outputs": [],
   "source": [
    "from statistics import mode "
   ]
  },
  {
   "cell_type": "code",
   "execution_count": 9,
   "id": "1f465c66-cbb4-4691-a525-3120e5c7eba4",
   "metadata": {
    "tags": []
   },
   "outputs": [
    {
     "data": {
      "text/plain": [
       "7"
      ]
     },
     "execution_count": 9,
     "metadata": {},
     "output_type": "execute_result"
    }
   ],
   "source": [
    "mode(m)"
   ]
  },
  {
   "cell_type": "code",
   "execution_count": 11,
   "id": "b6238f5a-09b8-469d-85eb-24463adaa5bf",
   "metadata": {
    "tags": []
   },
   "outputs": [],
   "source": [
    "# Population in statistics - It is consider as considered as the total observation that is made. \n",
    "# Sample in statistics - It is nothing but  a subset of population so that we would able to interperate it."
   ]
  },
  {
   "cell_type": "code",
   "execution_count": 14,
   "id": "56b821b8-2ab5-4162-b96e-24c11cd9d06a",
   "metadata": {
    "tags": []
   },
   "outputs": [],
   "source": [
    "population = np.random.randint(10,20,100)"
   ]
  },
  {
   "cell_type": "code",
   "execution_count": 15,
   "id": "ceac8c86-27ce-4cac-bdd2-3c33c681cf46",
   "metadata": {
    "tags": []
   },
   "outputs": [
    {
     "data": {
      "text/plain": [
       "array([18, 15, 14, 16, 14, 10, 13, 18, 18, 17, 12, 13, 17, 14, 10, 10, 14,\n",
       "       14, 13, 18, 17, 11, 15, 19, 17, 17, 14, 18, 18, 17, 10, 18, 10, 12,\n",
       "       18, 15, 16, 17, 10, 19, 16, 12, 11, 11, 14, 19, 12, 13, 16, 12, 17,\n",
       "       12, 14, 14, 15, 16, 10, 18, 11, 17, 14, 11, 13, 13, 12, 13, 12, 16,\n",
       "       15, 18, 14, 16, 19, 16, 10, 16, 15, 14, 18, 13, 17, 17, 19, 10, 17,\n",
       "       19, 10, 17, 14, 10, 15, 15, 12, 12, 16, 13, 10, 11, 17, 16])"
      ]
     },
     "execution_count": 15,
     "metadata": {},
     "output_type": "execute_result"
    }
   ],
   "source": [
    "population"
   ]
  },
  {
   "cell_type": "code",
   "execution_count": 16,
   "id": "e8cdd0a9-3aa2-4511-8591-8cd331f3da34",
   "metadata": {
    "tags": []
   },
   "outputs": [
    {
     "data": {
      "text/plain": [
       "14.51"
      ]
     },
     "execution_count": 16,
     "metadata": {},
     "output_type": "execute_result"
    }
   ],
   "source": [
    "np.mean(population)"
   ]
  },
  {
   "cell_type": "code",
   "execution_count": 17,
   "id": "23390020-bbca-4c65-b12e-47a122753b25",
   "metadata": {
    "tags": []
   },
   "outputs": [
    {
     "data": {
      "text/plain": [
       "14.5"
      ]
     },
     "execution_count": 17,
     "metadata": {},
     "output_type": "execute_result"
    }
   ],
   "source": [
    "np.median(population)"
   ]
  },
  {
   "cell_type": "code",
   "execution_count": 18,
   "id": "166cd051-ce8a-466b-a09a-8f15bf215bd1",
   "metadata": {
    "tags": []
   },
   "outputs": [
    {
     "data": {
      "text/plain": [
       "17"
      ]
     },
     "execution_count": 18,
     "metadata": {},
     "output_type": "execute_result"
    }
   ],
   "source": [
    "mode(population)"
   ]
  },
  {
   "cell_type": "code",
   "execution_count": 19,
   "id": "f2c53ddf-ba60-4cfb-9703-721b24de0fdc",
   "metadata": {
    "tags": []
   },
   "outputs": [],
   "source": [
    "sample = np.random.choice(population, 20)"
   ]
  },
  {
   "cell_type": "code",
   "execution_count": 20,
   "id": "ae02881e-65b5-404c-a2fc-7dd6b08c5414",
   "metadata": {
    "tags": []
   },
   "outputs": [
    {
     "data": {
      "text/plain": [
       "array([13, 14, 18, 15, 16, 17, 15, 16, 12, 17, 10, 12, 13, 15, 14, 16, 15,\n",
       "       16, 17, 12])"
      ]
     },
     "execution_count": 20,
     "metadata": {},
     "output_type": "execute_result"
    }
   ],
   "source": [
    "sample"
   ]
  },
  {
   "cell_type": "code",
   "execution_count": 21,
   "id": "ca7299dd-cf73-4089-8802-a3a1b43be6dc",
   "metadata": {
    "tags": []
   },
   "outputs": [
    {
     "data": {
      "text/plain": [
       "14.65"
      ]
     },
     "execution_count": 21,
     "metadata": {},
     "output_type": "execute_result"
    }
   ],
   "source": [
    "np.mean(sample)"
   ]
  },
  {
   "cell_type": "code",
   "execution_count": 22,
   "id": "6b9df22c-8c97-4834-a9c0-66fe8bf963b1",
   "metadata": {
    "tags": []
   },
   "outputs": [
    {
     "data": {
      "text/plain": [
       "15.0"
      ]
     },
     "execution_count": 22,
     "metadata": {},
     "output_type": "execute_result"
    }
   ],
   "source": [
    "np.median(sample)"
   ]
  },
  {
   "cell_type": "code",
   "execution_count": 23,
   "id": "26cfd559-3146-47da-941f-c8a3dc941bda",
   "metadata": {
    "tags": []
   },
   "outputs": [
    {
     "data": {
      "text/plain": [
       "17"
      ]
     },
     "execution_count": 23,
     "metadata": {},
     "output_type": "execute_result"
    }
   ],
   "source": [
    "mode(population)"
   ]
  },
  {
   "cell_type": "code",
   "execution_count": 24,
   "id": "ba1872be-7270-4858-8be0-aa913db6da78",
   "metadata": {
    "tags": []
   },
   "outputs": [],
   "source": [
    "sample_1 = np.random.choice(population, 15)\n",
    "sample_2 = np.random.choice(population, 15)\n",
    "sample_3 = np.random.choice(population, 15)\n",
    "sample_4 = np.random.choice(population, 15)"
   ]
  },
  {
   "cell_type": "code",
   "execution_count": 28,
   "id": "6303f32e-89f4-4082-8849-d90933550ade",
   "metadata": {
    "tags": []
   },
   "outputs": [
    {
     "ename": "SyntaxError",
     "evalue": "invalid syntax (2085768897.py, line 4)",
     "output_type": "error",
     "traceback": [
      "\u001b[1;36m  Cell \u001b[1;32mIn[28], line 4\u001b[1;36m\u001b[0m\n\u001b[1;33m    for i in all sample:\u001b[0m\n\u001b[1;37m                 ^\u001b[0m\n\u001b[1;31mSyntaxError\u001b[0m\u001b[1;31m:\u001b[0m invalid syntax\n"
     ]
    }
   ],
   "source": [
    "all_samples = [sample, sample_1,sample_2,sample_3,sample_4]\n",
    "sample_mean=[]\n",
    "\n",
    "for i in all sample:\n",
    "    sample_mean.append(np.mean(i))\n",
    "\n",
    "sample_mean"
   ]
  },
  {
   "cell_type": "code",
   "execution_count": 29,
   "id": "ea856e47-064f-4058-b370-94e117103c0f",
   "metadata": {
    "tags": []
   },
   "outputs": [
    {
     "data": {
      "text/plain": [
       "[14.65,\n",
       " 14.933333333333334,\n",
       " 14.733333333333333,\n",
       " 14.933333333333334,\n",
       " 14.333333333333334]"
      ]
     },
     "execution_count": 29,
     "metadata": {},
     "output_type": "execute_result"
    }
   ],
   "source": [
    "all_samples = [sample, sample_1, sample_2, sample_3, sample_4]\n",
    "sample_mean = []\n",
    "\n",
    "for i in all_samples:\n",
    "    sample_mean.append(np.mean(i))\n",
    "\n",
    "sample_mean"
   ]
  },
  {
   "cell_type": "code",
   "execution_count": 30,
   "id": "d691aef1-34da-4f94-91a5-2627d8b06c0f",
   "metadata": {
    "tags": []
   },
   "outputs": [
    {
     "data": {
      "text/plain": [
       "14.716666666666665"
      ]
     },
     "execution_count": 30,
     "metadata": {},
     "output_type": "execute_result"
    }
   ],
   "source": [
    "np.mean(sample_mean)"
   ]
  },
  {
   "cell_type": "code",
   "execution_count": 31,
   "id": "cb611b15-735e-433f-be3b-3491071de4d2",
   "metadata": {
    "tags": []
   },
   "outputs": [
    {
     "data": {
      "text/plain": [
       "14.733333333333333"
      ]
     },
     "execution_count": 31,
     "metadata": {},
     "output_type": "execute_result"
    }
   ],
   "source": [
    "np.median(sample_mean)"
   ]
  },
  {
   "cell_type": "code",
   "execution_count": 32,
   "id": "cb73bff4-a5c5-45fa-a568-d275728737b1",
   "metadata": {
    "tags": []
   },
   "outputs": [
    {
     "data": {
      "text/plain": [
       "14.933333333333334"
      ]
     },
     "execution_count": 32,
     "metadata": {},
     "output_type": "execute_result"
    }
   ],
   "source": [
    "mode(sample_mean)"
   ]
  },
  {
   "cell_type": "code",
   "execution_count": null,
   "id": "739bf049-af51-47bb-8fe6-3c0ead8cf225",
   "metadata": {},
   "outputs": [],
   "source": []
  }
 ],
 "metadata": {
  "kernelspec": {
   "display_name": "Python 3 (ipykernel)",
   "language": "python",
   "name": "python3"
  },
  "language_info": {
   "codemirror_mode": {
    "name": "ipython",
    "version": 3
   },
   "file_extension": ".py",
   "mimetype": "text/x-python",
   "name": "python",
   "nbconvert_exporter": "python",
   "pygments_lexer": "ipython3",
   "version": "3.11.5"
  }
 },
 "nbformat": 4,
 "nbformat_minor": 5
}
