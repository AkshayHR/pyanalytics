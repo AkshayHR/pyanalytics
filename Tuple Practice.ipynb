{
 "cells": [
  {
   "cell_type": "markdown",
   "id": "b72329bc-ba16-42d1-afb9-bf5d4e0c3161",
   "metadata": {
    "tags": []
   },
   "source": [
    "# Tuple. Tuples are used to store multiple items in a single variable"
   ]
  },
  {
   "cell_type": "markdown",
   "id": "ddcb7b84-e4b6-4363-81a4-6e71230d0c4a",
   "metadata": {},
   "source": [
    "## Changing Value: you can convert the tuple into a list, change the list, and convert the list back into a tuple."
   ]
  },
  {
   "cell_type": "code",
   "execution_count": 1,
   "id": "5da6d3a1-77d0-47c3-9e0d-7fd1cc3d701b",
   "metadata": {
    "tags": []
   },
   "outputs": [],
   "source": [
    "x = [\"Mother\", \"Brother\", \"Father\"]"
   ]
  },
  {
   "cell_type": "code",
   "execution_count": 2,
   "id": "06fea47e-d835-4b30-bac9-32fc309cc81a",
   "metadata": {
    "tags": []
   },
   "outputs": [],
   "source": [
    "y = list(x)"
   ]
  },
  {
   "cell_type": "code",
   "execution_count": 3,
   "id": "a7f64e90-9f1e-43f5-87db-3f5575f50701",
   "metadata": {
    "tags": []
   },
   "outputs": [],
   "source": [
    "y[1] = \"sister\""
   ]
  },
  {
   "cell_type": "code",
   "execution_count": 4,
   "id": "0247a4fa-c23e-4561-8e8b-a21fa3024c38",
   "metadata": {
    "tags": []
   },
   "outputs": [],
   "source": [
    "x = tuple(y)"
   ]
  },
  {
   "cell_type": "code",
   "execution_count": 6,
   "id": "725a4482-24a4-4791-8758-b70970c7ee33",
   "metadata": {
    "tags": []
   },
   "outputs": [
    {
     "name": "stdout",
     "output_type": "stream",
     "text": [
      "('Mother', 'sister', 'Father')\n"
     ]
    }
   ],
   "source": [
    "print (x)"
   ]
  },
  {
   "cell_type": "code",
   "execution_count": 7,
   "id": "fadcfa42-1936-44fc-ad19-3530d2958924",
   "metadata": {
    "tags": []
   },
   "outputs": [],
   "source": [
    "a = [\"Manager\",\"supervisor\",\"Associate\"]"
   ]
  },
  {
   "cell_type": "code",
   "execution_count": 8,
   "id": "2bb5b05c-7b8c-4491-95f6-76e92ccc82e8",
   "metadata": {
    "tags": []
   },
   "outputs": [],
   "source": [
    "b = list(a)"
   ]
  },
  {
   "cell_type": "code",
   "execution_count": 9,
   "id": "201eb88f-bf92-494b-984b-a2c252b3ba4c",
   "metadata": {
    "tags": []
   },
   "outputs": [],
   "source": [
    "b[2] = \"executive\""
   ]
  },
  {
   "cell_type": "code",
   "execution_count": 12,
   "id": "fdd09596-ab43-422c-b545-c29d7d791c40",
   "metadata": {
    "tags": []
   },
   "outputs": [],
   "source": [
    "a = tuple(b)"
   ]
  },
  {
   "cell_type": "code",
   "execution_count": 13,
   "id": "8c1faf42-ff43-4ee1-ac1e-281306ab0e3d",
   "metadata": {
    "tags": []
   },
   "outputs": [
    {
     "name": "stdout",
     "output_type": "stream",
     "text": [
      "('Manager', 'supervisor', 'executive')\n"
     ]
    }
   ],
   "source": [
    "print (a)"
   ]
  },
  {
   "cell_type": "code",
   "execution_count": 14,
   "id": "023c3f63-8621-40e2-9506-ea1bacae5d7d",
   "metadata": {
    "tags": []
   },
   "outputs": [],
   "source": [
    "j = [\"milk\",\"curd\",\"cheese\"]"
   ]
  },
  {
   "cell_type": "code",
   "execution_count": 15,
   "id": "a161ce5c-cdb6-450a-a2f3-177a494f113a",
   "metadata": {
    "tags": []
   },
   "outputs": [],
   "source": [
    "k = list(j)"
   ]
  },
  {
   "cell_type": "code",
   "execution_count": 17,
   "id": "1678a2aa-2097-4987-8484-f7b3f0da3484",
   "metadata": {
    "tags": []
   },
   "outputs": [],
   "source": [
    "k[2] = \"tofu\" "
   ]
  },
  {
   "cell_type": "code",
   "execution_count": 18,
   "id": "1b7058d5-b35a-4f1b-b0fd-1f85ff8d1f30",
   "metadata": {
    "tags": []
   },
   "outputs": [],
   "source": [
    "j = tuple[k]"
   ]
  },
  {
   "cell_type": "code",
   "execution_count": 19,
   "id": "bda87572-96a4-4cea-9e6e-5a8cad44cd1d",
   "metadata": {
    "tags": []
   },
   "outputs": [
    {
     "name": "stdout",
     "output_type": "stream",
     "text": [
      "tuple[['milk', 'curd', 'tofu']]\n"
     ]
    }
   ],
   "source": [
    "print (j)"
   ]
  },
  {
   "cell_type": "code",
   "execution_count": null,
   "id": "efb4f039-09c7-4083-a627-ce9786e1e40a",
   "metadata": {},
   "outputs": [],
   "source": []
  }
 ],
 "metadata": {
  "kernelspec": {
   "display_name": "Python 3 (ipykernel)",
   "language": "python",
   "name": "python3"
  },
  "language_info": {
   "codemirror_mode": {
    "name": "ipython",
    "version": 3
   },
   "file_extension": ".py",
   "mimetype": "text/x-python",
   "name": "python",
   "nbconvert_exporter": "python",
   "pygments_lexer": "ipython3",
   "version": "3.11.5"
  }
 },
 "nbformat": 4,
 "nbformat_minor": 5
}
